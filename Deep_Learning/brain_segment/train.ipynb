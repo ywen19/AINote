{
 "cells": [
  {
   "cell_type": "markdown",
   "metadata": {},
   "source": [
    "## 训练U-Net模型"
   ]
  },
  {
   "cell_type": "code",
   "execution_count": 1,
   "metadata": {
    "ExecuteTime": {
     "end_time": "2020-06-11T15:56:14.141179Z",
     "start_time": "2020-06-11T15:56:05.371997Z"
    }
   },
   "outputs": [
    {
     "name": "stderr",
     "output_type": "stream",
     "text": [
      "C:\\Users\\ext.yiwen\\anaconda3\\envs\\test\\lib\\site-packages\\tqdm\\auto.py:21: TqdmWarning: IProgress not found. Please update jupyter and ipywidgets. See https://ipywidgets.readthedocs.io/en/stable/user_install.html\n",
      "  from .autonotebook import tqdm as notebook_tqdm\n"
     ]
    }
   ],
   "source": [
    "import json\n",
    "import os\n",
    "\n",
    "from types import SimpleNamespace\n",
    "import tqdm\n",
    "import numpy as np\n",
    "import torch\n",
    "import torch.optim as optim\n",
    "from torch.utils.data import DataLoader\n",
    "\n",
    "from dataset import BrainSegmentationDataset as Dataset\n",
    "from logger import Logger\n",
    "from loss import DiceLoss, LogCoshDiceLoss, ShapeAwareLoss\n",
    "from transform import transforms\n",
    "from unet import UNet\n",
    "from nestedunet import NestedUNet\n",
    "from utils import log_images, dsc"
   ]
  },
  {
   "cell_type": "markdown",
   "metadata": {},
   "source": [
    "### 输入参数  \n",
    "  \n",
    "device: 设备编号  \n",
    "batch_size: 批大小  \n",
    "epochs: 训练轮数  \n",
    "lr: 学习率  \n",
    "vis_images: 可视化预测结果的数目 (在tensorboard中查看)  \n",
    "vis_freq: 两次可视化预测结果的间隔  \n",
    "weights: 训练后的模型参数路径    \n",
    "images: 数据集路径   \n",
    "image_size: 图像尺寸   \n",
    "aug_scale: 数据增强(放缩)  \n",
    "aug_angle: 数据增强(旋转)  "
   ]
  },
  {
   "cell_type": "code",
   "execution_count": 27,
   "metadata": {},
   "outputs": [],
   "source": [
    "args = SimpleNamespace(\n",
    "    device = 'cuda:0',\n",
    "    batch_size = 20,\n",
    "    epochs = 50,\n",
    "    lr = 0.0001,\n",
    "    workers = 0,\n",
    "    vis_images = 200,\n",
    "    vis_freq = 10,\n",
    "    weights = './weights',\n",
    "    logs = './logs_nestunet',\n",
    "    images = './kaggle_3m',\n",
    "    image_size = 256,\n",
    "    aug_scale = 0.05,\n",
    "    aug_angle = 15,\n",
    ")"
   ]
  },
  {
   "cell_type": "code",
   "execution_count": 3,
   "metadata": {
    "ExecuteTime": {
     "end_time": "2020-06-11T15:56:14.185956Z",
     "start_time": "2020-06-11T15:56:14.151605Z"
    }
   },
   "outputs": [],
   "source": [
    "# 读取数据\n",
    "def worker_init(worker_id):\n",
    "    np.random.seed(42 + worker_id)\n",
    "\n",
    "def data_loaders(args):\n",
    "    dataset_train, dataset_valid = datasets(args)\n",
    "\n",
    "    loader_train = DataLoader(\n",
    "        dataset_train,\n",
    "        batch_size=args.batch_size,\n",
    "        shuffle=True,\n",
    "        drop_last=True,\n",
    "        num_workers=args.workers,\n",
    "        worker_init_fn=worker_init,\n",
    "    )\n",
    "    loader_valid = DataLoader(\n",
    "        dataset_valid,\n",
    "        batch_size=args.batch_size,\n",
    "        drop_last=False,\n",
    "        num_workers=args.workers,\n",
    "        worker_init_fn=worker_init,\n",
    "    )\n",
    "\n",
    "    return dataset_train, dataset_valid, loader_train, loader_valid\n",
    "\n",
    "# 数据集定义\n",
    "def datasets(args):\n",
    "    train = Dataset(\n",
    "        images_dir=args.images,\n",
    "        subset=\"train\",\n",
    "        image_size=args.image_size,\n",
    "        transform=transforms(scale=args.aug_scale, angle=args.aug_angle, flip_prob=0.5),\n",
    "    )\n",
    "    valid = Dataset(\n",
    "        images_dir=args.images,\n",
    "        subset=\"validation\",\n",
    "        image_size=args.image_size,\n",
    "        random_sampling=False,\n",
    "    )\n",
    "    return train, valid\n",
    "\n",
    "# 数据处理\n",
    "def dsc_per_volume(validation_pred, validation_true, patient_slice_index):\n",
    "    dsc_list = []\n",
    "    num_slices = np.bincount([p[0] for p in patient_slice_index])\n",
    "    index = 0\n",
    "    for p in range(len(num_slices)):\n",
    "        y_pred = np.array(validation_pred[index : index + num_slices[p]])\n",
    "        y_true = np.array(validation_true[index : index + num_slices[p]])\n",
    "        dsc_list.append(dsc(y_pred, y_true))\n",
    "        index += num_slices[p]\n",
    "    return dsc_list\n",
    "\n",
    "\n",
    "def log_loss_summary(logger, loss, step, prefix=\"\"):\n",
    "    logger.scalar_summary(prefix + \"loss\", np.mean(loss), step)\n",
    "\n",
    "\n",
    "def makedirs(args):\n",
    "    os.makedirs(args.weights, exist_ok=True)\n",
    "    os.makedirs(args.logs, exist_ok=True)\n",
    "\n",
    "\n",
    "def snapshotargs(args):\n",
    "    args_file = os.path.join(args.logs, \"args.json\")\n",
    "    with open(args_file, \"w\") as fp:\n",
    "        json.dump(vars(args), fp)"
   ]
  },
  {
   "cell_type": "code",
   "execution_count": 28,
   "metadata": {},
   "outputs": [],
   "source": [
    "makedirs(args)\n",
    "snapshotargs(args)\n",
    "device = torch.device(\"cpu\" if not torch.cuda.is_available() else args.device)\n",
    "\n",
    "#dataset_train, dataset_valid, loader_train, loader_valid = data_loaders(args)\n",
    "#loaders = {\"train\": loader_train, \"valid\": loader_valid}\n"
   ]
  },
  {
   "cell_type": "code",
   "execution_count": 5,
   "metadata": {},
   "outputs": [],
   "source": [
    "# save the data loader for pre-processed data to save future running time\n",
    "torch.save(loader_train, 'train.pth')\n",
    "torch.save(loader_valid, 'valid.pth')"
   ]
  },
  {
   "cell_type": "code",
   "execution_count": 6,
   "metadata": {},
   "outputs": [],
   "source": [
    "# load the dataloader that has been saved out\n",
    "loaders = {\"train\": torch.load('train.pth'), \"valid\": torch.load('valid.pth')}"
   ]
  },
  {
   "cell_type": "code",
   "execution_count": 29,
   "metadata": {},
   "outputs": [],
   "source": [
    "#unet = UNet(in_channels=Dataset.in_channels, out_channels=Dataset.out_channels)\n",
    "#unet.to(device)\n",
    "nestedunet = NestedUNet(in_channels=Dataset.in_channels, out_channels=Dataset.out_channels)\n",
    "nestedunet.to(device)\n",
    "\n",
    "dsc_loss = DiceLoss()\n",
    "# criterion = torch.nn.BCELoss()\n",
    "# lcsce = LogCoshDiceLoss()\n",
    "# shape_aware = ShapeAwareLoss()\n",
    "\n",
    "best_validation_dsc = 0.0\n",
    "\n",
    "# optimizer = optim.SGD(unet.parameters(), lr=args.lr, momentum=0.9, weight_decay=1e-4, nesterov=True)\n",
    "optimizer = optim.Adam(nestedunet.parameters(), lr=args.lr)\n",
    "\n",
    "\n",
    "logger = Logger(args.logs)\n",
    "loss_train = []\n",
    "loss_valid = []\n",
    "\n",
    "step = 0\n"
   ]
  },
  {
   "cell_type": "code",
   "execution_count": null,
   "metadata": {},
   "outputs": [
    {
     "name": "stderr",
     "output_type": "stream",
     "text": [
      "100%|████████████████████████████████████████████████████████████████████████████████| 166/166 [02:23<00:00,  1.16it/s]\n",
      "100%|██████████████████████████████████████████████████████████████████████████████████| 17/17 [00:17<00:00,  1.02s/it]\n"
     ]
    },
    {
     "name": "stdout",
     "output_type": "stream",
     "text": [
      "epoch 1 | val_loss: 0.9202391259810504\n",
      "epoch 1 | val_dsc: 0.7047440432966343\n"
     ]
    },
    {
     "name": "stderr",
     "output_type": "stream",
     "text": [
      "100%|████████████████████████████████████████████████████████████████████████████████| 166/166 [02:18<00:00,  1.20it/s]\n",
      "100%|██████████████████████████████████████████████████████████████████████████████████| 17/17 [00:02<00:00,  5.98it/s]\n"
     ]
    },
    {
     "name": "stdout",
     "output_type": "stream",
     "text": [
      "epoch 2 | val_loss: 0.9082802709411172\n",
      "epoch 2 | val_dsc: 0.5891243867935535\n"
     ]
    },
    {
     "name": "stderr",
     "output_type": "stream",
     "text": [
      "100%|████████████████████████████████████████████████████████████████████████████████| 166/166 [02:18<00:00,  1.20it/s]\n",
      "100%|██████████████████████████████████████████████████████████████████████████████████| 17/17 [00:02<00:00,  6.13it/s]\n"
     ]
    },
    {
     "name": "stdout",
     "output_type": "stream",
     "text": [
      "epoch 3 | val_loss: 0.8852389139287612\n",
      "epoch 3 | val_dsc: 0.7362291438714518\n"
     ]
    },
    {
     "name": "stderr",
     "output_type": "stream",
     "text": [
      "100%|████████████████████████████████████████████████████████████████████████████████| 166/166 [02:19<00:00,  1.19it/s]\n",
      "100%|██████████████████████████████████████████████████████████████████████████████████| 17/17 [00:02<00:00,  5.91it/s]\n"
     ]
    },
    {
     "name": "stdout",
     "output_type": "stream",
     "text": [
      "epoch 4 | val_loss: 0.85678929791731\n",
      "epoch 4 | val_dsc: 0.7630429152842355\n"
     ]
    },
    {
     "name": "stderr",
     "output_type": "stream",
     "text": [
      "100%|████████████████████████████████████████████████████████████████████████████████| 166/166 [02:19<00:00,  1.19it/s]\n",
      "100%|██████████████████████████████████████████████████████████████████████████████████| 17/17 [00:02<00:00,  5.72it/s]\n"
     ]
    },
    {
     "name": "stdout",
     "output_type": "stream",
     "text": [
      "epoch 5 | val_loss: 0.8198114878991071\n",
      "epoch 5 | val_dsc: 0.6921759949708525\n"
     ]
    },
    {
     "name": "stderr",
     "output_type": "stream",
     "text": [
      "100%|████████████████████████████████████████████████████████████████████████████████| 166/166 [02:21<00:00,  1.18it/s]\n",
      "100%|██████████████████████████████████████████████████████████████████████████████████| 17/17 [00:02<00:00,  5.91it/s]\n"
     ]
    },
    {
     "name": "stdout",
     "output_type": "stream",
     "text": [
      "epoch 6 | val_loss: 0.77492115427466\n",
      "epoch 6 | val_dsc: 0.7923321356523201\n"
     ]
    },
    {
     "name": "stderr",
     "output_type": "stream",
     "text": [
      "100%|████████████████████████████████████████████████████████████████████████████████| 166/166 [02:19<00:00,  1.19it/s]\n",
      "100%|██████████████████████████████████████████████████████████████████████████████████| 17/17 [00:02<00:00,  5.90it/s]\n"
     ]
    },
    {
     "name": "stdout",
     "output_type": "stream",
     "text": [
      "epoch 7 | val_loss: 0.725173343630398\n",
      "epoch 7 | val_dsc: 0.8018464004730375\n"
     ]
    },
    {
     "name": "stderr",
     "output_type": "stream",
     "text": [
      "100%|████████████████████████████████████████████████████████████████████████████████| 166/166 [02:19<00:00,  1.19it/s]\n",
      "100%|██████████████████████████████████████████████████████████████████████████████████| 17/17 [00:02<00:00,  6.03it/s]\n"
     ]
    },
    {
     "name": "stdout",
     "output_type": "stream",
     "text": [
      "epoch 8 | val_loss: 0.6896548341302311\n",
      "epoch 8 | val_dsc: 0.8001146754365924\n"
     ]
    },
    {
     "name": "stderr",
     "output_type": "stream",
     "text": [
      "100%|████████████████████████████████████████████████████████████████████████████████| 166/166 [02:21<00:00,  1.17it/s]\n",
      "100%|██████████████████████████████████████████████████████████████████████████████████| 17/17 [00:02<00:00,  5.93it/s]\n"
     ]
    },
    {
     "name": "stdout",
     "output_type": "stream",
     "text": [
      "epoch 9 | val_loss: 0.6312170379302081\n",
      "epoch 9 | val_dsc: 0.7883424866001587\n"
     ]
    },
    {
     "name": "stderr",
     "output_type": "stream",
     "text": [
      "100%|████████████████████████████████████████████████████████████████████████████████| 166/166 [02:19<00:00,  1.19it/s]\n",
      "100%|██████████████████████████████████████████████████████████████████████████████████| 17/17 [00:02<00:00,  6.04it/s]\n"
     ]
    },
    {
     "name": "stdout",
     "output_type": "stream",
     "text": [
      "epoch 10 | val_loss: 0.5702379521201638\n",
      "epoch 10 | val_dsc: 0.9022910008099437\n"
     ]
    },
    {
     "name": "stderr",
     "output_type": "stream",
     "text": [
      "100%|████████████████████████████████████████████████████████████████████████████████| 166/166 [02:19<00:00,  1.19it/s]\n",
      "100%|██████████████████████████████████████████████████████████████████████████████████| 17/17 [00:14<00:00,  1.14it/s]\n"
     ]
    },
    {
     "name": "stdout",
     "output_type": "stream",
     "text": [
      "epoch 11 | val_loss: 0.5344571681583629\n",
      "epoch 11 | val_dsc: 0.9052872999916891\n"
     ]
    },
    {
     "name": "stderr",
     "output_type": "stream",
     "text": [
      "100%|████████████████████████████████████████████████████████████████████████████████| 166/166 [02:19<00:00,  1.19it/s]\n",
      "100%|██████████████████████████████████████████████████████████████████████████████████| 17/17 [00:02<00:00,  5.93it/s]\n"
     ]
    },
    {
     "name": "stdout",
     "output_type": "stream",
     "text": [
      "epoch 12 | val_loss: 0.518184549668256\n",
      "epoch 12 | val_dsc: 0.8116616781713294\n"
     ]
    },
    {
     "name": "stderr",
     "output_type": "stream",
     "text": [
      "100%|████████████████████████████████████████████████████████████████████████████████| 166/166 [02:21<00:00,  1.17it/s]\n",
      "100%|██████████████████████████████████████████████████████████████████████████████████| 17/17 [00:02<00:00,  6.09it/s]\n"
     ]
    },
    {
     "name": "stdout",
     "output_type": "stream",
     "text": [
      "epoch 13 | val_loss: 0.44434118270874023\n",
      "epoch 13 | val_dsc: 0.9091693159338199\n"
     ]
    },
    {
     "name": "stderr",
     "output_type": "stream",
     "text": [
      "100%|████████████████████████████████████████████████████████████████████████████████| 166/166 [02:20<00:00,  1.18it/s]\n",
      "100%|██████████████████████████████████████████████████████████████████████████████████| 17/17 [00:02<00:00,  6.04it/s]\n"
     ]
    },
    {
     "name": "stdout",
     "output_type": "stream",
     "text": [
      "epoch 14 | val_loss: 0.4209042717428768\n",
      "epoch 14 | val_dsc: 0.8968418839797134\n"
     ]
    },
    {
     "name": "stderr",
     "output_type": "stream",
     "text": [
      "100%|████████████████████████████████████████████████████████████████████████████████| 166/166 [02:18<00:00,  1.20it/s]\n",
      "100%|██████████████████████████████████████████████████████████████████████████████████| 17/17 [00:02<00:00,  6.09it/s]\n"
     ]
    },
    {
     "name": "stdout",
     "output_type": "stream",
     "text": [
      "epoch 15 | val_loss: 0.3845544176943162\n",
      "epoch 15 | val_dsc: 0.9100174603610375\n"
     ]
    },
    {
     "name": "stderr",
     "output_type": "stream",
     "text": [
      "100%|████████████████████████████████████████████████████████████████████████████████| 166/166 [02:19<00:00,  1.19it/s]\n",
      "100%|██████████████████████████████████████████████████████████████████████████████████| 17/17 [00:02<00:00,  6.16it/s]\n"
     ]
    },
    {
     "name": "stdout",
     "output_type": "stream",
     "text": [
      "epoch 16 | val_loss: 0.370598480981939\n",
      "epoch 16 | val_dsc: 0.9029815214477432\n"
     ]
    },
    {
     "name": "stderr",
     "output_type": "stream",
     "text": [
      "100%|████████████████████████████████████████████████████████████████████████████████| 166/166 [02:19<00:00,  1.19it/s]\n",
      "100%|██████████████████████████████████████████████████████████████████████████████████| 17/17 [00:02<00:00,  6.12it/s]\n"
     ]
    },
    {
     "name": "stdout",
     "output_type": "stream",
     "text": [
      "epoch 17 | val_loss: 0.3674164940329159\n",
      "epoch 17 | val_dsc: 0.8127560206819604\n"
     ]
    },
    {
     "name": "stderr",
     "output_type": "stream",
     "text": [
      "100%|████████████████████████████████████████████████████████████████████████████████| 166/166 [02:17<00:00,  1.20it/s]\n",
      "100%|██████████████████████████████████████████████████████████████████████████████████| 17/17 [00:02<00:00,  6.05it/s]\n"
     ]
    },
    {
     "name": "stdout",
     "output_type": "stream",
     "text": [
      "epoch 18 | val_loss: 0.3291081716032589\n",
      "epoch 18 | val_dsc: 0.90851794191504\n"
     ]
    },
    {
     "name": "stderr",
     "output_type": "stream",
     "text": [
      "100%|████████████████████████████████████████████████████████████████████████████████| 166/166 [02:18<00:00,  1.20it/s]\n",
      "100%|██████████████████████████████████████████████████████████████████████████████████| 17/17 [00:02<00:00,  6.24it/s]\n"
     ]
    },
    {
     "name": "stdout",
     "output_type": "stream",
     "text": [
      "epoch 19 | val_loss: 0.3292726102997275\n",
      "epoch 19 | val_dsc: 0.9054316092095149\n"
     ]
    },
    {
     "name": "stderr",
     "output_type": "stream",
     "text": [
      "100%|████████████████████████████████████████████████████████████████████████████████| 166/166 [02:15<00:00,  1.23it/s]\n",
      "100%|██████████████████████████████████████████████████████████████████████████████████| 17/17 [00:02<00:00,  6.16it/s]\n"
     ]
    },
    {
     "name": "stdout",
     "output_type": "stream",
     "text": [
      "epoch 20 | val_loss: 0.3152072604964761\n",
      "epoch 20 | val_dsc: 0.8165505219678411\n"
     ]
    },
    {
     "name": "stderr",
     "output_type": "stream",
     "text": [
      "100%|████████████████████████████████████████████████████████████████████████████████| 166/166 [02:14<00:00,  1.24it/s]\n",
      "100%|██████████████████████████████████████████████████████████████████████████████████| 17/17 [00:14<00:00,  1.20it/s]\n"
     ]
    },
    {
     "name": "stdout",
     "output_type": "stream",
     "text": [
      "epoch 21 | val_loss: 0.2748996440102072\n",
      "epoch 21 | val_dsc: 0.9081394007642597\n"
     ]
    },
    {
     "name": "stderr",
     "output_type": "stream",
     "text": [
      "100%|████████████████████████████████████████████████████████████████████████████████| 166/166 [02:12<00:00,  1.26it/s]\n",
      "100%|██████████████████████████████████████████████████████████████████████████████████| 17/17 [00:02<00:00,  6.45it/s]\n"
     ]
    },
    {
     "name": "stdout",
     "output_type": "stream",
     "text": [
      "epoch 22 | val_loss: 0.2714621529859655\n",
      "epoch 22 | val_dsc: 0.9081529245615172\n"
     ]
    },
    {
     "name": "stderr",
     "output_type": "stream",
     "text": [
      "100%|████████████████████████████████████████████████████████████████████████████████| 166/166 [02:14<00:00,  1.24it/s]\n",
      "100%|██████████████████████████████████████████████████████████████████████████████████| 17/17 [00:02<00:00,  5.74it/s]\n"
     ]
    },
    {
     "name": "stdout",
     "output_type": "stream",
     "text": [
      "epoch 23 | val_loss: 0.2532302281435798\n",
      "epoch 23 | val_dsc: 0.9058035273960806\n"
     ]
    },
    {
     "name": "stderr",
     "output_type": "stream",
     "text": [
      "100%|████████████████████████████████████████████████████████████████████████████████| 166/166 [02:15<00:00,  1.23it/s]\n",
      "100%|██████████████████████████████████████████████████████████████████████████████████| 17/17 [00:02<00:00,  6.40it/s]\n"
     ]
    },
    {
     "name": "stdout",
     "output_type": "stream",
     "text": [
      "epoch 24 | val_loss: 0.24131768941879272\n",
      "epoch 24 | val_dsc: 0.9096384222164741\n"
     ]
    },
    {
     "name": "stderr",
     "output_type": "stream",
     "text": [
      "100%|████████████████████████████████████████████████████████████████████████████████| 166/166 [02:17<00:00,  1.21it/s]\n",
      "100%|██████████████████████████████████████████████████████████████████████████████████| 17/17 [00:02<00:00,  6.23it/s]\n"
     ]
    },
    {
     "name": "stdout",
     "output_type": "stream",
     "text": [
      "epoch 25 | val_loss: 0.2339476241784937\n",
      "epoch 25 | val_dsc: 0.9120951868019288\n"
     ]
    },
    {
     "name": "stderr",
     "output_type": "stream",
     "text": [
      "100%|████████████████████████████████████████████████████████████████████████████████| 166/166 [02:16<00:00,  1.22it/s]\n",
      "100%|██████████████████████████████████████████████████████████████████████████████████| 17/17 [00:02<00:00,  6.17it/s]\n"
     ]
    },
    {
     "name": "stdout",
     "output_type": "stream",
     "text": [
      "epoch 26 | val_loss: 0.23730014352237477\n",
      "epoch 26 | val_dsc: 0.9088924909386744\n"
     ]
    },
    {
     "name": "stderr",
     "output_type": "stream",
     "text": [
      "100%|████████████████████████████████████████████████████████████████████████████████| 166/166 [02:16<00:00,  1.21it/s]\n",
      "100%|██████████████████████████████████████████████████████████████████████████████████| 17/17 [00:02<00:00,  6.18it/s]\n"
     ]
    },
    {
     "name": "stdout",
     "output_type": "stream",
     "text": [
      "epoch 27 | val_loss: 0.2156932704588946\n",
      "epoch 27 | val_dsc: 0.9061247281129056\n"
     ]
    },
    {
     "name": "stderr",
     "output_type": "stream",
     "text": [
      "100%|████████████████████████████████████████████████████████████████████████████████| 166/166 [02:15<00:00,  1.23it/s]\n",
      "100%|██████████████████████████████████████████████████████████████████████████████████| 17/17 [00:02<00:00,  6.14it/s]\n"
     ]
    },
    {
     "name": "stdout",
     "output_type": "stream",
     "text": [
      "epoch 28 | val_loss: 0.21912106345681584\n",
      "epoch 28 | val_dsc: 0.9078505124190016\n"
     ]
    },
    {
     "name": "stderr",
     "output_type": "stream",
     "text": [
      "100%|████████████████████████████████████████████████████████████████████████████████| 166/166 [02:15<00:00,  1.23it/s]\n",
      "100%|██████████████████████████████████████████████████████████████████████████████████| 17/17 [00:02<00:00,  6.36it/s]\n"
     ]
    },
    {
     "name": "stdout",
     "output_type": "stream",
     "text": [
      "epoch 29 | val_loss: 0.19969313635545619\n",
      "epoch 29 | val_dsc: 0.9102153339856279\n"
     ]
    },
    {
     "name": "stderr",
     "output_type": "stream",
     "text": [
      "100%|████████████████████████████████████████████████████████████████████████████████| 166/166 [02:15<00:00,  1.23it/s]\n",
      "100%|██████████████████████████████████████████████████████████████████████████████████| 17/17 [00:02<00:00,  6.11it/s]\n"
     ]
    },
    {
     "name": "stdout",
     "output_type": "stream",
     "text": [
      "epoch 30 | val_loss: 0.20316546454149134\n",
      "epoch 30 | val_dsc: 0.9111727303885232\n"
     ]
    },
    {
     "name": "stderr",
     "output_type": "stream",
     "text": [
      "100%|████████████████████████████████████████████████████████████████████████████████| 166/166 [02:16<00:00,  1.22it/s]\n",
      "100%|██████████████████████████████████████████████████████████████████████████████████| 17/17 [00:14<00:00,  1.21it/s]\n"
     ]
    },
    {
     "name": "stdout",
     "output_type": "stream",
     "text": [
      "epoch 31 | val_loss: 0.1976831870920518\n",
      "epoch 31 | val_dsc: 0.9117311962824198\n"
     ]
    },
    {
     "name": "stderr",
     "output_type": "stream",
     "text": [
      "100%|████████████████████████████████████████████████████████████████████████████████| 166/166 [02:16<00:00,  1.22it/s]\n",
      "100%|██████████████████████████████████████████████████████████████████████████████████| 17/17 [00:02<00:00,  6.13it/s]\n"
     ]
    },
    {
     "name": "stdout",
     "output_type": "stream",
     "text": [
      "epoch 32 | val_loss: 0.19776005955303416\n",
      "epoch 32 | val_dsc: 0.9091154359459231\n"
     ]
    },
    {
     "name": "stderr",
     "output_type": "stream",
     "text": [
      "100%|████████████████████████████████████████████████████████████████████████████████| 166/166 [02:15<00:00,  1.23it/s]\n",
      "100%|██████████████████████████████████████████████████████████████████████████████████| 17/17 [00:02<00:00,  6.16it/s]\n"
     ]
    },
    {
     "name": "stdout",
     "output_type": "stream",
     "text": [
      "epoch 33 | val_loss: 0.1783704862875097\n",
      "epoch 33 | val_dsc: 0.9076226401613209\n"
     ]
    },
    {
     "name": "stderr",
     "output_type": "stream",
     "text": [
      "100%|████████████████████████████████████████████████████████████████████████████████| 166/166 [02:15<00:00,  1.22it/s]\n",
      "100%|██████████████████████████████████████████████████████████████████████████████████| 17/17 [00:02<00:00,  6.31it/s]\n"
     ]
    },
    {
     "name": "stdout",
     "output_type": "stream",
     "text": [
      "epoch 34 | val_loss: 0.17657195820527918\n",
      "epoch 34 | val_dsc: 0.911889886306037\n"
     ]
    },
    {
     "name": "stderr",
     "output_type": "stream",
     "text": [
      "100%|████████████████████████████████████████████████████████████████████████████████| 166/166 [02:15<00:00,  1.22it/s]\n",
      "100%|██████████████████████████████████████████████████████████████████████████████████| 17/17 [00:02<00:00,  6.24it/s]\n"
     ]
    },
    {
     "name": "stdout",
     "output_type": "stream",
     "text": [
      "epoch 35 | val_loss: 0.1716104079695309\n",
      "epoch 35 | val_dsc: 0.9114173242289848\n"
     ]
    },
    {
     "name": "stderr",
     "output_type": "stream",
     "text": [
      "100%|████████████████████████████████████████████████████████████████████████████████| 166/166 [02:14<00:00,  1.23it/s]\n",
      "100%|██████████████████████████████████████████████████████████████████████████████████| 17/17 [00:02<00:00,  6.29it/s]\n"
     ]
    },
    {
     "name": "stdout",
     "output_type": "stream",
     "text": [
      "epoch 36 | val_loss: 0.16092493604211247\n",
      "epoch 36 | val_dsc: 0.9117564350842603\n"
     ]
    },
    {
     "name": "stderr",
     "output_type": "stream",
     "text": [
      "100%|████████████████████████████████████████████████████████████████████████████████| 166/166 [02:14<00:00,  1.23it/s]\n",
      "100%|██████████████████████████████████████████████████████████████████████████████████| 17/17 [00:02<00:00,  6.18it/s]\n"
     ]
    },
    {
     "name": "stdout",
     "output_type": "stream",
     "text": [
      "epoch 37 | val_loss: 0.17061992953805363\n",
      "epoch 37 | val_dsc: 0.9134745447113565\n"
     ]
    },
    {
     "name": "stderr",
     "output_type": "stream",
     "text": [
      "100%|████████████████████████████████████████████████████████████████████████████████| 166/166 [02:15<00:00,  1.22it/s]\n",
      "100%|██████████████████████████████████████████████████████████████████████████████████| 17/17 [00:02<00:00,  6.31it/s]\n"
     ]
    },
    {
     "name": "stdout",
     "output_type": "stream",
     "text": [
      "epoch 38 | val_loss: 0.1669454294092515\n",
      "epoch 38 | val_dsc: 0.9099042011695451\n"
     ]
    },
    {
     "name": "stderr",
     "output_type": "stream",
     "text": [
      "100%|████████████████████████████████████████████████████████████████████████████████| 166/166 [02:13<00:00,  1.24it/s]\n",
      "100%|██████████████████████████████████████████████████████████████████████████████████| 17/17 [00:02<00:00,  6.39it/s]\n"
     ]
    },
    {
     "name": "stdout",
     "output_type": "stream",
     "text": [
      "epoch 39 | val_loss: 0.1662435812108657\n",
      "epoch 39 | val_dsc: 0.9088135228918753\n"
     ]
    },
    {
     "name": "stderr",
     "output_type": "stream",
     "text": [
      "100%|████████████████████████████████████████████████████████████████████████████████| 166/166 [02:14<00:00,  1.24it/s]\n",
      "100%|██████████████████████████████████████████████████████████████████████████████████| 17/17 [00:02<00:00,  6.34it/s]\n"
     ]
    },
    {
     "name": "stdout",
     "output_type": "stream",
     "text": [
      "epoch 40 | val_loss: 0.16837148806628058\n",
      "epoch 40 | val_dsc: 0.9089391473644148\n"
     ]
    },
    {
     "name": "stderr",
     "output_type": "stream",
     "text": [
      "100%|████████████████████████████████████████████████████████████████████████████████| 166/166 [02:13<00:00,  1.24it/s]\n",
      "100%|██████████████████████████████████████████████████████████████████████████████████| 17/17 [00:13<00:00,  1.24it/s]\n"
     ]
    },
    {
     "name": "stdout",
     "output_type": "stream",
     "text": [
      "epoch 41 | val_loss: 0.15038375293507295\n",
      "epoch 41 | val_dsc: 0.9096236982751046\n"
     ]
    },
    {
     "name": "stderr",
     "output_type": "stream",
     "text": [
      "100%|████████████████████████████████████████████████████████████████████████████████| 166/166 [02:13<00:00,  1.24it/s]\n",
      "100%|██████████████████████████████████████████████████████████████████████████████████| 17/17 [00:02<00:00,  6.12it/s]\n"
     ]
    },
    {
     "name": "stdout",
     "output_type": "stream",
     "text": [
      "epoch 42 | val_loss: 0.15159587649738088\n",
      "epoch 42 | val_dsc: 0.9114716662782378\n"
     ]
    },
    {
     "name": "stderr",
     "output_type": "stream",
     "text": [
      "100%|████████████████████████████████████████████████████████████████████████████████| 166/166 [02:14<00:00,  1.23it/s]\n",
      "100%|██████████████████████████████████████████████████████████████████████████████████| 17/17 [00:02<00:00,  6.31it/s]\n"
     ]
    },
    {
     "name": "stdout",
     "output_type": "stream",
     "text": [
      "epoch 43 | val_loss: 0.15672071190441356\n",
      "epoch 43 | val_dsc: 0.907381908441096\n"
     ]
    },
    {
     "name": "stderr",
     "output_type": "stream",
     "text": [
      "100%|████████████████████████████████████████████████████████████████████████████████| 166/166 [02:15<00:00,  1.23it/s]\n",
      "100%|██████████████████████████████████████████████████████████████████████████████████| 17/17 [00:02<00:00,  6.26it/s]\n"
     ]
    },
    {
     "name": "stdout",
     "output_type": "stream",
     "text": [
      "epoch 44 | val_loss: 0.14658164978027344\n",
      "epoch 44 | val_dsc: 0.9010459407766038\n"
     ]
    },
    {
     "name": "stderr",
     "output_type": "stream",
     "text": [
      " 98%|██████████████████████████████████████████████████████████████████████████████  | 162/166 [02:11<00:03,  1.20it/s]"
     ]
    }
   ],
   "source": [
    "for epoch in range(args.epochs):\n",
    "    for phase in [\"train\", \"valid\"]:\n",
    "        if phase == \"train\":\n",
    "            nestedunet.train()\n",
    "        else:\n",
    "            nestedunet.eval()\n",
    "\n",
    "        validation_pred = []\n",
    "        validation_true = []\n",
    "\n",
    "        for i, data in enumerate(tqdm.tqdm(loaders[phase])):\n",
    "            if phase == \"train\":\n",
    "                step += 1\n",
    "\n",
    "            x, y_true = data\n",
    "            x, y_true = x.to(device), y_true.to(device)\n",
    "\n",
    "            optimizer.zero_grad()\n",
    "\n",
    "            with torch.set_grad_enabled(phase == \"train\"):\n",
    "                y_pred = nestedunet(x)\n",
    "\n",
    "                loss = dsc_loss(y_pred, y_true)\n",
    "                #loss = criterion(y_pred, y_true)\n",
    "                #loss = lcsce(y_pred, y_true)\n",
    "                #loss = shape_aware(y_pred, y_true)\n",
    "\n",
    "                if phase == \"valid\":\n",
    "                    loss_valid.append(loss.item())\n",
    "                    y_pred_np = y_pred.detach().cpu().numpy()\n",
    "                    validation_pred.extend(\n",
    "                        [y_pred_np[s] for s in range(y_pred_np.shape[0])]\n",
    "                    )\n",
    "                    y_true_np = y_true.detach().cpu().numpy()\n",
    "                    validation_true.extend(\n",
    "                        [y_true_np[s] for s in range(y_true_np.shape[0])]\n",
    "                    )\n",
    "                    if (epoch % args.vis_freq == 0) or (epoch == args.epochs - 1):\n",
    "                        if i * args.batch_size < args.vis_images:\n",
    "                            tag = \"image/{}\".format(i)\n",
    "                            num_images = args.vis_images - i * args.batch_size\n",
    "                            logger.image_list_summary(\n",
    "                                tag,\n",
    "                                log_images(x, y_true, y_pred)[:num_images],\n",
    "                                step,\n",
    "                            )\n",
    "\n",
    "                if phase == \"train\":\n",
    "                    loss_train.append(loss.item())\n",
    "                    loss.backward()\n",
    "                    optimizer.step()\n",
    "\n",
    "            if phase == \"train\" and (step + 1) % 10 == 0:\n",
    "                log_loss_summary(logger, loss_train, step)\n",
    "                loss_train = []\n",
    "\n",
    "        if phase == \"valid\":\n",
    "            log_loss_summary(logger, loss_valid, step, prefix=\"val_\")\n",
    "            print(\"epoch {} | val_loss: {}\".format(epoch + 1, np.mean(loss_valid)))\n",
    "            mean_dsc = np.mean(\n",
    "                dsc_per_volume(\n",
    "                    validation_pred,\n",
    "                    validation_true,\n",
    "                    loaders[\"valid\"].dataset.patient_slice_index,\n",
    "                )\n",
    "            )\n",
    "            logger.scalar_summary(\"val_dsc\", mean_dsc, step)\n",
    "            print(\"epoch {} | val_dsc: {}\".format(epoch+1, mean_dsc))\n",
    "            if mean_dsc > best_validation_dsc:\n",
    "                best_validation_dsc = mean_dsc\n",
    "                # save weights out for inference\n",
    "                torch.save(nestedunet.state_dict(), os.path.join(args.weights, \"nestedunet.pt\"))\n",
    "            loss_valid = []\n",
    "\n",
    "print(\"Best validation mean DSC: {:4f}\".format(best_validation_dsc))"
   ]
  },
  {
   "cell_type": "code",
   "execution_count": 11,
   "metadata": {},
   "outputs": [],
   "source": [
    "# save the model out\n",
    "torch.save(nestedunet.state_dict(), 'nestedunet-batch16-epoch100-lr00005-adam-LogCoshDiceLoss')"
   ]
  },
  {
   "cell_type": "code",
   "execution_count": null,
   "metadata": {},
   "outputs": [],
   "source": []
  }
 ],
 "metadata": {
  "kernelspec": {
   "display_name": "Python 3 (ipykernel)",
   "language": "python",
   "name": "python3"
  },
  "language_info": {
   "codemirror_mode": {
    "name": "ipython",
    "version": 3
   },
   "file_extension": ".py",
   "mimetype": "text/x-python",
   "name": "python",
   "nbconvert_exporter": "python",
   "pygments_lexer": "ipython3",
   "version": "3.10.9"
  }
 },
 "nbformat": 4,
 "nbformat_minor": 4
}
